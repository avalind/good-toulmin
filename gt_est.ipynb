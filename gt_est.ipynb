{
 "cells": [
  {
   "cell_type": "code",
   "execution_count": 2,
   "metadata": {
    "collapsed": true
   },
   "outputs": [],
   "source": [
    "import numpy as np\n",
    "import scipy.stats as stats\n",
    "import scipy.special as spec\n",
    "import seaborn as sns\n",
    "import matplotlib.pyplot as plt\n",
    "%matplotlib inline"
   ]
  },
  {
   "cell_type": "markdown",
   "metadata": {},
   "source": [
    "Good-Toulmin Estimators\n",
    "---\n",
    "\n",
    "Or my adventures in pulling extra information from the clonal landscape of scDNA-Seq of tumors cells\n",
    "\n",
    "For reference on methodology see http://www.stat.yale.edu/~yw562/reprints/species-pnas.pdf as well as Good & Toulmins original paper as well as the paper by Efron & Thisted where they use the k-truncated euler transform of Good & Toulmins original estimator\n",
    "\n",
    "TODO testcases:\n",
    "\n",
    "see for instance https://www.rdocumentation.org/packages/preseqR/versions/2.0.1.1/topics/preseqR.rfa.species.accum.curve\n"
   ]
  },
  {
   "cell_type": "code",
   "execution_count": 46,
   "metadata": {
    "collapsed": false
   },
   "outputs": [],
   "source": [
    "def good_toulmin(phi, t):\n",
    "    \"\"\"\n",
    "    The original Good Toulmin Estimator\n",
    "    \"\"\"\n",
    "    ts = (-t)**np.arange(1, phi.size+1)\n",
    "    return -np.dot(ts, phi)\n",
    "\n",
    "    \n",
    "def smoother(i, n, t):\n",
    "    \"\"\"\n",
    "    The binomial smoothing distribution from Orlitsky et al\n",
    "    using their proposed parametrization from Table 1 (row 2)\n",
    "    \"\"\"\n",
    "    k = np.floor(0.5 * np.log2( (n*(t**2))/(t-1)))\n",
    "    k = 3\n",
    "    ds = 1-stats.binom.cdf(i, k, 1/(1+t))\n",
    "    return ds\n",
    "\n",
    "\n",
    "def smoothed_good_toulmin(phi, n, t, smf=smoother):\n",
    "    \"\"\"\n",
    "    The smoothed Good Toulmin estimator as proposed by Orlitksy et al\n",
    "    in PNAS 2016 using the proposed binomial smoothing distribution.\n",
    "    \"\"\"\n",
    "    ts = (-t)**np.arange(1, phi.size+1)\n",
    "    i = np.arange(1, phi.size +1)\n",
    "    sm = smf(i, n, t)\n",
    "    return -np.sum(ts*sm*phi)"
   ]
  },
  {
   "cell_type": "code",
   "execution_count": 49,
   "metadata": {
    "collapsed": false
   },
   "outputs": [
    {
     "name": "stdout",
     "output_type": "stream",
     "text": [
      "[ 0.48171094  0.11607493  0.          0.          0.          0.          0.\n",
      "  0.          0.          0.          0.          0.          0.          0.\n",
      "  0.          0.        ]\n",
      "[1, 2, 3, 4, 5, 6, 7, 8, 9, 10, 11, 12, 13, 14, 15, 16]\n",
      "[ 0.48171094  0.11607493  0.          0.          0.          0.          0.\n",
      "  0.          0.          0.          0.          0.          0.          0.\n",
      "  0.          0.        ]\n",
      "[ 0.48171094  0.11607493  0.          0.          0.          0.          0.\n",
      "  0.          0.          0.          0.          0.          0.          0.\n",
      "  0.          0.        ]\n"
     ]
    }
   ],
   "source": [
    "# Original Wright Data\n",
    "\"\"\"\n",
    "wright = np.array([118, 74, 44, 24, 29, 22, 20, 19, 20, 15, 12, 14, 6, 12, 6])\n",
    "n_samples = 0\n",
    "for index in range(1, wright.size+1):\n",
    "    n_samples += index*wright[index]\n",
    "    \n",
    "\n",
    "phi = np.array([2,1,1])\n",
    "print(smoothed_good_toulmin(wright, 2029, 1.01))\n",
    "\n",
    "t_series = np.arange(1.1,10,step=0.25)\n",
    "g = []\n",
    "#print(t_series)\n",
    "for c in t_series:\n",
    "    g.append(smoothed_good_toulmin(wright, 2029, c))\n",
    "\n",
    "u_series = np.array(g)\n",
    "plt.plot(t_series, u_series)\n",
    "\"\"\"\n",
    "\n",
    "def et_sm(i, k, t):\n",
    "    psum = 0\n",
    "    if i > k: return 0\n",
    "    for j in range(i+1, k+1):\n",
    "        psum += spec.comb(k, j)*((t**(k-j))/((1+t)**k))\n",
    "    return psum\n",
    "\n",
    "def et_sm_vec(il, n, t):\n",
    "    k = np.floor(0.5 * np.log2( (n*(t**2))/(t-1)))\n",
    "    return np.array([et_sm(ii, int(k), t) for ii in il])\n",
    "\n",
    "n = 10\n",
    "t = 1.05\n",
    "i = [1,2,3,4,5,6,7,8,9,10,11,12,13,14,15,16]\n",
    "print(et_sm_vec(i, k, t))\n",
    "print(smoother(i, k, t))"
   ]
  },
  {
   "cell_type": "code",
   "execution_count": null,
   "metadata": {
    "collapsed": false
   },
   "outputs": [],
   "source": []
  },
  {
   "cell_type": "code",
   "execution_count": null,
   "metadata": {
    "collapsed": false
   },
   "outputs": [],
   "source": []
  },
  {
   "cell_type": "code",
   "execution_count": null,
   "metadata": {
    "collapsed": true
   },
   "outputs": [],
   "source": []
  }
 ],
 "metadata": {
  "kernelspec": {
   "display_name": "Python 3",
   "language": "python",
   "name": "python3"
  },
  "language_info": {
   "codemirror_mode": {
    "name": "ipython",
    "version": 3
   },
   "file_extension": ".py",
   "mimetype": "text/x-python",
   "name": "python",
   "nbconvert_exporter": "python",
   "pygments_lexer": "ipython3",
   "version": "3.5.3"
  }
 },
 "nbformat": 4,
 "nbformat_minor": 2
}
